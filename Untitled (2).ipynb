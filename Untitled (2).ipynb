{
  "metadata": {
    "language_info": {
      "codemirror_mode": {
        "name": "python",
        "version": 3
      },
      "file_extension": ".py",
      "mimetype": "text/x-python",
      "name": "python",
      "nbconvert_exporter": "python",
      "pygments_lexer": "ipython3",
      "version": "3.8"
    },
    "kernelspec": {
      "name": "python",
      "display_name": "Pyolite",
      "language": "python"
    }
  },
  "nbformat_minor": 4,
  "nbformat": 4,
  "cells": [
    {
      "cell_type": "markdown",
      "source": "My Jupyter Notebook on IBM Watson Studio",
      "metadata": {}
    },
    {
      "cell_type": "markdown",
      "source": "**Rachel**\n\nData analytics",
      "metadata": {}
    },
    {
      "cell_type": "markdown",
      "source": "_I like data science because I love doing doing data analytics and geting insights out of it._",
      "metadata": {}
    },
    {
      "cell_type": "markdown",
      "source": "### The answer of 1+1",
      "metadata": {}
    },
    {
      "cell_type": "code",
      "source": "#2",
      "metadata": {
        "trusted": true
      },
      "execution_count": 6,
      "outputs": []
    },
    {
      "cell_type": "markdown",
      "source": "- bullet point1\n- bullet point 2\n- bullet point 3\n---------------------------------------\n- [click here to go to the link](https://link-url-here.org)",
      "metadata": {}
    }
  ]
}